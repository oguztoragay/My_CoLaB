{
  "nbformat": 4,
  "nbformat_minor": 0,
  "metadata": {
    "colab": {
      "provenance": [],
      "authorship_tag": "ABX9TyNQXRP5Ygnrr1uudzC5XgIQ",
      "include_colab_link": true
    },
    "kernelspec": {
      "name": "python3",
      "display_name": "Python 3"
    },
    "language_info": {
      "name": "python"
    }
  },
  "cells": [
    {
      "cell_type": "markdown",
      "metadata": {
        "id": "view-in-github",
        "colab_type": "text"
      },
      "source": [
        "<a href=\"https://colab.research.google.com/github/oguztoragay/My_CoLaB/blob/main/Copy_of_CoLaB1.ipynb\" target=\"_parent\"><img src=\"https://colab.research.google.com/assets/colab-badge.svg\" alt=\"Open In Colab\"/></a>"
      ]
    },
    {
      "cell_type": "code",
      "source": [
        "! pip install PyPDF2\n"
      ],
      "metadata": {
        "id": "SiWFAQouIHqp",
        "outputId": "0f665b51-fc75-425b-8fc9-ba4a16207894",
        "colab": {
          "base_uri": "https://localhost:8080/"
        }
      },
      "execution_count": null,
      "outputs": [
        {
          "output_type": "stream",
          "name": "stdout",
          "text": [
            "Looking in indexes: https://pypi.org/simple, https://us-python.pkg.dev/colab-wheels/public/simple/\n",
            "Requirement already satisfied: PyPDF2 in /usr/local/lib/python3.10/dist-packages (3.0.1)\n"
          ]
        }
      ]
    },
    {
      "cell_type": "code",
      "source": [
        "! pip install pdfminer.six"
      ],
      "metadata": {
        "id": "jLMVlqfcLlem",
        "outputId": "8688251d-6241-4dff-d29f-80823be1a920",
        "colab": {
          "base_uri": "https://localhost:8080/"
        }
      },
      "execution_count": null,
      "outputs": [
        {
          "output_type": "stream",
          "name": "stdout",
          "text": [
            "Looking in indexes: https://pypi.org/simple, https://us-python.pkg.dev/colab-wheels/public/simple/\n",
            "Requirement already satisfied: pdfminer.six in /usr/local/lib/python3.10/dist-packages (20221105)\n",
            "Requirement already satisfied: charset-normalizer>=2.0.0 in /usr/local/lib/python3.10/dist-packages (from pdfminer.six) (2.0.12)\n",
            "Requirement already satisfied: cryptography>=36.0.0 in /usr/local/lib/python3.10/dist-packages (from pdfminer.six) (40.0.2)\n",
            "Requirement already satisfied: cffi>=1.12 in /usr/local/lib/python3.10/dist-packages (from cryptography>=36.0.0->pdfminer.six) (1.15.1)\n",
            "Requirement already satisfied: pycparser in /usr/local/lib/python3.10/dist-packages (from cffi>=1.12->cryptography>=36.0.0->pdfminer.six) (2.21)\n"
          ]
        }
      ]
    },
    {
      "cell_type": "code",
      "source": [
        "! pip install tkinterdnd2"
      ],
      "metadata": {
        "id": "61tjvNljMRlI",
        "outputId": "882ea3ed-c880-4ff3-9d90-ac349250f321",
        "colab": {
          "base_uri": "https://localhost:8080/"
        }
      },
      "execution_count": null,
      "outputs": [
        {
          "output_type": "stream",
          "name": "stdout",
          "text": [
            "Looking in indexes: https://pypi.org/simple, https://us-python.pkg.dev/colab-wheels/public/simple/\n",
            "Collecting tkinterdnd2\n",
            "  Downloading tkinterdnd2-0.3.0-py3-none-any.whl (386 kB)\n",
            "\u001b[2K     \u001b[90m━━━━━━━━━━━━━━━━━━━━━━━━━━━━━━━━━━━━━━━\u001b[0m \u001b[32m386.7/386.7 kB\u001b[0m \u001b[31m7.0 MB/s\u001b[0m eta \u001b[36m0:00:00\u001b[0m\n",
            "\u001b[?25hInstalling collected packages: tkinterdnd2\n",
            "Successfully installed tkinterdnd2-0.3.0\n"
          ]
        }
      ]
    },
    {
      "cell_type": "code",
      "execution_count": null,
      "metadata": {
        "id": "SwNrijQREP0f",
        "outputId": "ae1a8e6d-d63e-4f20-ef61-b69cfb1298b7",
        "colab": {
          "base_uri": "https://localhost:8080/",
          "height": 357
        }
      },
      "outputs": [
        {
          "output_type": "error",
          "ename": "ModuleNotFoundError",
          "evalue": "ignored",
          "traceback": [
            "\u001b[0;31m---------------------------------------------------------------------------\u001b[0m",
            "\u001b[0;31mModuleNotFoundError\u001b[0m                       Traceback (most recent call last)",
            "\u001b[0;32m<ipython-input-7-3184eace9c06>\u001b[0m in \u001b[0;36m<cell line: 7>\u001b[0;34m()\u001b[0m\n\u001b[1;32m      5\u001b[0m \u001b[0;32mfrom\u001b[0m \u001b[0mpdfminer\u001b[0m\u001b[0;34m.\u001b[0m\u001b[0mhigh_level\u001b[0m \u001b[0;32mimport\u001b[0m \u001b[0mextract_pages\u001b[0m\u001b[0;34m\u001b[0m\u001b[0;34m\u001b[0m\u001b[0m\n\u001b[1;32m      6\u001b[0m \u001b[0;32mfrom\u001b[0m \u001b[0mpdfminer\u001b[0m\u001b[0;34m.\u001b[0m\u001b[0mlayout\u001b[0m \u001b[0;32mimport\u001b[0m \u001b[0mLTTextContainer\u001b[0m\u001b[0;34m,\u001b[0m \u001b[0mLTChar\u001b[0m\u001b[0;34m,\u001b[0m\u001b[0mLTLine\u001b[0m\u001b[0;34m,\u001b[0m\u001b[0mLAParams\u001b[0m\u001b[0;34m\u001b[0m\u001b[0;34m\u001b[0m\u001b[0m\n\u001b[0;32m----> 7\u001b[0;31m \u001b[0;32mfrom\u001b[0m \u001b[0mTkinterDnD2\u001b[0m \u001b[0;32mimport\u001b[0m \u001b[0mDND_FILES\u001b[0m\u001b[0;34m,\u001b[0m \u001b[0mTkinterDnD\u001b[0m\u001b[0;34m\u001b[0m\u001b[0;34m\u001b[0m\u001b[0m\n\u001b[0m\u001b[1;32m      8\u001b[0m \u001b[0;34m\u001b[0m\u001b[0m\n",
            "\u001b[0;31mModuleNotFoundError\u001b[0m: No module named 'TkinterDnD2'",
            "",
            "\u001b[0;31m---------------------------------------------------------------------------\u001b[0;32m\nNOTE: If your import is failing due to a missing package, you can\nmanually install dependencies using either !pip or !apt.\n\nTo view examples of installing some common dependencies, click the\n\"Open Examples\" button below.\n\u001b[0;31m---------------------------------------------------------------------------\u001b[0m\n"
          ],
          "errorDetails": {
            "actions": [
              {
                "action": "open_url",
                "actionText": "Open Examples",
                "url": "/notebooks/snippets/importing_libraries.ipynb"
              }
            ]
          }
        }
      ],
      "source": [
        "import tkinter as tk\n",
        "import PyPDF2\n",
        "import os\n",
        "import pdfminer\n",
        "from pdfminer.high_level import extract_pages\n",
        "from pdfminer.layout import LTTextContainer, LTChar,LTLine,LAParams\n",
        "from TkinterDnD2 import DND_FILES, TkinterDnD\n",
        "\n"
      ]
    },
    {
      "cell_type": "code",
      "source": [
        "def drop_inside_list_box(event):\n",
        "    listb.insert('end', event.data)\n",
        "    if event.data[0] == '{':\n",
        "        file_name = event.data[1:-1]\n",
        "    else:\n",
        "        file_name = event.data\n",
        "    with open(file_name, 'rb') as file:\n",
        "        pdf_reader = PyPDF2.PdfReader(file)\n",
        "        name_ = str(pdf_reader.documentInfo.title_raw)\n",
        "        name_ = ''.join(i for i in name_ if i not in \"\\/:*?<>|\")\n",
        "        if name_=='' or name_=='None':\n",
        "            Extract_Data = []\n",
        "            for page_layout in extract_pages(file_name, page_numbers=[0], maxpages=1):\n",
        "                for element in page_layout:\n",
        "                    if isinstance(element, LTTextContainer):\n",
        "                        for text_line in element:\n",
        "                            for character in text_line:\n",
        "                                if isinstance(character, LTChar):\n",
        "                                    Font_size = character.size\n",
        "                        Extract_Data.append([Font_size, (element.get_text())])\n",
        "            Extract_Data = sorted(Extract_Data, key=lambda x: x[0],reverse=True)\n",
        "            name_ = Extract_Data[0][1]\n",
        "            name_ = ''.join(i for i in name_ if i not in \"\\/:*?<>|\\n\")\n",
        "        name_final = name_+'.pdf'\n",
        "        textb.insert('end', f'{name_}\\n')\n",
        "    os.rename(file_name, os.path.join(os.path.dirname(file_name), name_final))\n",
        "\n"
      ],
      "metadata": {
        "id": "dlVCLOIWGJKB"
      },
      "execution_count": null,
      "outputs": []
    },
    {
      "cell_type": "code",
      "source": [
        "root = TkinterDnD.Tk()\n",
        "\n",
        "root.geometry('700x400')\n",
        "l = tk.Label(root, text = 'Drag and Drop you PDF file down here:')\n",
        "l.config(font=(\"Courier\", 14), justify='left')\n",
        "l.pack()\n",
        "listb = tk.Listbox(root, selectmode=tk.SINGLE, background='#7FFFD4')\n",
        "listb.pack(fill=tk.X)\n",
        "listb.drop_target_register(DND_FILES)\n",
        "listb.dnd_bind('<<Drop>>', drop_inside_list_box)\n",
        "textb = tk.Text(root, background='#C1CDCD')\n",
        "textb.pack(fill=tk.X)\n",
        "root.mainloop()"
      ],
      "metadata": {
        "id": "3BrDyFnEGQe2"
      },
      "execution_count": null,
      "outputs": []
    }
  ]
}